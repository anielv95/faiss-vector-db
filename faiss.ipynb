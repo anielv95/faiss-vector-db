{
 "cells": [
  {
   "cell_type": "markdown",
   "metadata": {},
   "source": [
    "# Libraries"
   ]
  },
  {
   "cell_type": "code",
   "execution_count": 61,
   "metadata": {},
   "outputs": [],
   "source": [
    "import sys\n",
    "import PyPDF2\n",
    "from langchain.document_loaders import PyPDFLoader, TextLoader\n",
    "from langchain.embeddings import HuggingFaceEmbeddings, CacheBackedEmbeddings\n",
    "from langchain.text_splitter import CharacterTextSplitter\n",
    "from langchain.storage import InMemoryStore, LocalFileStore, RedisStore\n",
    "from langchain.vectorstores import FAISS"
   ]
  },
  {
   "cell_type": "markdown",
   "metadata": {},
   "source": [
    "# Getting data"
   ]
  },
  {
   "cell_type": "code",
   "execution_count": 7,
   "metadata": {},
   "outputs": [
    {
     "name": "stdout",
     "output_type": "stream",
     "text": [
      "--2023-08-24 15:48:15--  https://docs.google.com/uc?export=download&id=1f1INWOfJrHTFmbyF_0be5b4u_moz3a4F\n",
      "Resolving docs.google.com (docs.google.com)... 172.217.2.142, 2607:f8b0:4012:805::200e\n",
      "Connecting to docs.google.com (docs.google.com)|172.217.2.142|:443... connected.\n",
      "HTTP request sent, awaiting response... 303 See Other\n",
      "Location: https://doc-0g-84-docs.googleusercontent.com/docs/securesc/ha0ro937gcuc7l7deffksulhg5h7mbp1/of2gbngv5d8kcpqepte0o6l909p66bo1/1692892050000/12721472133292131824/*/1f1INWOfJrHTFmbyF_0be5b4u_moz3a4F?e=download&uuid=9cc0e3e5-4e39-4dfb-8412-3995b9a86b79 [following]\n",
      "Warning: wildcards not supported in HTTP.\n",
      "--2023-08-24 15:48:15--  https://doc-0g-84-docs.googleusercontent.com/docs/securesc/ha0ro937gcuc7l7deffksulhg5h7mbp1/of2gbngv5d8kcpqepte0o6l909p66bo1/1692892050000/12721472133292131824/*/1f1INWOfJrHTFmbyF_0be5b4u_moz3a4F?e=download&uuid=9cc0e3e5-4e39-4dfb-8412-3995b9a86b79\n",
      "Resolving doc-0g-84-docs.googleusercontent.com (doc-0g-84-docs.googleusercontent.com)... 192.178.52.225, 172.217.15.1, 2607:f8b0:4012:820::2001\n",
      "Connecting to doc-0g-84-docs.googleusercontent.com (doc-0g-84-docs.googleusercontent.com)|192.178.52.225|:443... connected.\n",
      "HTTP request sent, awaiting response... 200 OK\n",
      "Length: 11993 (12K) [text/plain]\n",
      "Saving to: ‘steve-jobs-commencement.txt’\n",
      "\n",
      "steve-jobs-commence 100%[===================>]  11.71K  --.-KB/s    in 0.002s  \n",
      "\n",
      "2023-08-24 15:48:15 (6.06 MB/s) - ‘steve-jobs-commencement.txt’ saved [11993/11993]\n",
      "\n"
     ]
    },
    {
     "name": "stderr",
     "output_type": "stream",
     "text": [
      "Created a chunk of size 310, which is longer than the specified 300\n",
      "Created a chunk of size 835, which is longer than the specified 300\n",
      "Created a chunk of size 746, which is longer than the specified 300\n",
      "Created a chunk of size 422, which is longer than the specified 300\n",
      "Created a chunk of size 600, which is longer than the specified 300\n",
      "Created a chunk of size 800, which is longer than the specified 300\n",
      "Created a chunk of size 325, which is longer than the specified 300\n",
      "Created a chunk of size 836, which is longer than the specified 300\n",
      "Created a chunk of size 555, which is longer than the specified 300\n",
      "Created a chunk of size 310, which is longer than the specified 300\n",
      "Created a chunk of size 512, which is longer than the specified 300\n",
      "Created a chunk of size 842, which is longer than the specified 300\n",
      "Created a chunk of size 460, which is longer than the specified 300\n",
      "Created a chunk of size 504, which is longer than the specified 300\n",
      "Created a chunk of size 679, which is longer than the specified 300\n",
      "Created a chunk of size 487, which is longer than the specified 300\n",
      "Created a chunk of size 494, which is longer than the specified 300\n",
      "Created a chunk of size 388, which is longer than the specified 300\n",
      "Created a chunk of size 554, which is longer than the specified 300\n",
      "Created a chunk of size 580, which is longer than the specified 300\n"
     ]
    },
    {
     "data": {
      "text/plain": [
       "25"
      ]
     },
     "execution_count": 7,
     "metadata": {},
     "output_type": "execute_result"
    }
   ],
   "source": [
    "!wget 'https://docs.google.com/uc?export=download&id=1f1INWOfJrHTFmbyF_0be5b4u_moz3a4F' -O steve-jobs-commencement.txt\n",
    "\n",
    "with open('steve-jobs-commencement.txt') as f:\n",
    "    text = f.read()\n",
    "\n",
    "text_splitter = CharacterTextSplitter(chunk_size=300, chunk_overlap=0)\n",
    "texts = text_splitter.split_text(text)\n",
    "\n",
    "len(texts)"
   ]
  },
  {
   "cell_type": "code",
   "execution_count": 22,
   "metadata": {},
   "outputs": [
    {
     "name": "stdout",
     "output_type": "stream",
     "text": [
      "huggingface/tokenizers: The current process just got forked, after parallelism has already been used. Disabling parallelism to avoid deadlocks...\n",
      "To disable this warning, you can either:\n",
      "\t- Avoid using `tokenizers` before the fork if possible\n",
      "\t- Explicitly set the environment variable TOKENIZERS_PARALLELISM=(true | false)\n",
      "--2023-08-24 16:26:00--  https://fecolsa.com.co/upload/Actividades%20Equilibrio%20Total/Rowling%2C%20J.%20K.%20-%20%20Harry%20Potter%20y%20la%20piedra%20filosofal.pdf\n",
      "Resolving fecolsa.com.co (fecolsa.com.co)... 129.80.167.70\n",
      "Connecting to fecolsa.com.co (fecolsa.com.co)|129.80.167.70|:443... connected.\n",
      "HTTP request sent, awaiting response... 200 OK\n",
      "Length: 2484031 (2.4M) [application/pdf]\n",
      "Saving to: ‘harry1.txt’\n",
      "\n",
      "harry1.txt          100%[===================>]   2.37M  4.86MB/s    in 0.5s    \n",
      "\n",
      "2023-08-24 16:26:00 (4.86 MB/s) - ‘harry1.txt’ saved [2484031/2484031]\n",
      "\n"
     ]
    }
   ],
   "source": [
    "!wget \"https://fecolsa.com.co/upload/Actividades%20Equilibrio%20Total/Rowling%2C%20J.%20K.%20-%20%20Harry%20Potter%20y%20la%20piedra%20filosofal.pdf\" -O harry1.txt"
   ]
  },
  {
   "cell_type": "code",
   "execution_count": 30,
   "metadata": {},
   "outputs": [],
   "source": [
    "loader = PyPDFLoader(\"harry1.txt\")\n",
    "pages = loader.load_and_split()"
   ]
  },
  {
   "cell_type": "markdown",
   "metadata": {},
   "source": [
    "# Getting Hugginface embeddings"
   ]
  },
  {
   "cell_type": "code",
   "execution_count": 12,
   "metadata": {},
   "outputs": [
    {
     "name": "stderr",
     "output_type": "stream",
     "text": [
      "/usr/local/lib/python3.11/site-packages/tqdm/auto.py:21: TqdmWarning: IProgress not found. Please update jupyter and ipywidgets. See https://ipywidgets.readthedocs.io/en/stable/user_install.html\n",
      "  from .autonotebook import tqdm as notebook_tqdm\n",
      "Downloading (…)a8e1d/.gitattributes: 100%|██████████| 1.18k/1.18k [00:00<00:00, 2.01MB/s]\n",
      "Downloading (…)_Pooling/config.json: 100%|██████████| 190/190 [00:00<00:00, 425kB/s]\n",
      "Downloading (…)b20bca8e1d/README.md: 100%|██████████| 10.6k/10.6k [00:00<00:00, 7.97MB/s]\n",
      "Downloading (…)0bca8e1d/config.json: 100%|██████████| 571/571 [00:00<00:00, 2.22MB/s]\n",
      "Downloading (…)ce_transformers.json: 100%|██████████| 116/116 [00:00<00:00, 263kB/s]\n",
      "Downloading (…)e1d/data_config.json: 100%|██████████| 39.3k/39.3k [00:00<00:00, 753kB/s]\n",
      "Downloading pytorch_model.bin: 100%|██████████| 438M/438M [00:24<00:00, 18.1MB/s] \n",
      "Downloading (…)nce_bert_config.json: 100%|██████████| 53.0/53.0 [00:00<00:00, 75.2kB/s]\n",
      "Downloading (…)cial_tokens_map.json: 100%|██████████| 239/239 [00:00<00:00, 542kB/s]\n",
      "Downloading (…)a8e1d/tokenizer.json: 100%|██████████| 466k/466k [00:00<00:00, 6.81MB/s]\n",
      "Downloading (…)okenizer_config.json: 100%|██████████| 363/363 [00:00<00:00, 963kB/s]\n",
      "Downloading (…)8e1d/train_script.py: 100%|██████████| 13.1k/13.1k [00:00<00:00, 31.3MB/s]\n",
      "Downloading (…)b20bca8e1d/vocab.txt: 100%|██████████| 232k/232k [00:00<00:00, 1.77MB/s]\n",
      "Downloading (…)bca8e1d/modules.json: 100%|██████████| 349/349 [00:00<00:00, 1.45MB/s]\n"
     ]
    }
   ],
   "source": [
    "model_name = \"sentence-transformers/all-mpnet-base-v2\"\n",
    "model_kwargs = {'device': 'cpu'}\n",
    "encode_kwargs = {'normalize_embeddings': False}\n",
    "hf = HuggingFaceEmbeddings(\n",
    "    model_name=model_name,\n",
    "    model_kwargs=model_kwargs,\n",
    "    encode_kwargs=encode_kwargs,\n",
    "    cache_folder = \"./models\"\n",
    ")"
   ]
  },
  {
   "cell_type": "markdown",
   "metadata": {},
   "source": [
    "# Faiss-DB"
   ]
  },
  {
   "cell_type": "markdown",
   "metadata": {},
   "source": [
    "## Creating it"
   ]
  },
  {
   "cell_type": "code",
   "execution_count": 16,
   "metadata": {},
   "outputs": [],
   "source": [
    "faiss_path= 'data/faiss-db'\n",
    "plain_faiss = FAISS.from_texts(texts=texts,embedding=hf)\n",
    "plain_faiss.save_local(faiss_path)\n",
    "reload_faiss = FAISS.load_local(faiss_path,embeddings=hf)"
   ]
  },
  {
   "cell_type": "code",
   "execution_count": 21,
   "metadata": {},
   "outputs": [
    {
     "data": {
      "text/plain": [
       "<faiss.swigfaiss_avx2.IndexFlatL2; proxy of <Swig Object of type 'faiss::IndexFlatL2 *' at 0x7f4a9e51e2b0> >"
      ]
     },
     "execution_count": 21,
     "metadata": {},
     "output_type": "execute_result"
    }
   ],
   "source": [
    "plain_faiss.index"
   ]
  },
  {
   "cell_type": "code",
   "execution_count": 31,
   "metadata": {},
   "outputs": [],
   "source": [
    "plain_faiss2 = FAISS.from_documents(documents=pages,embedding=hf)"
   ]
  },
  {
   "cell_type": "code",
   "execution_count": 32,
   "metadata": {},
   "outputs": [],
   "source": [
    "faiss_path2= 'data/faiss-db2'\n",
    "plain_faiss2.save_local(faiss_path2)"
   ]
  },
  {
   "cell_type": "code",
   "execution_count": 37,
   "metadata": {},
   "outputs": [],
   "source": [
    "plain_faiss3 = plain_faiss.aadd_documents(documents= pages)"
   ]
  },
  {
   "cell_type": "code",
   "execution_count": 39,
   "metadata": {},
   "outputs": [
    {
     "data": {
      "text/plain": [
       "['d2ea6236-3517-438a-bf2d-a89a6f6e3fa5',\n",
       " 'ee2b264e-983f-4a39-be92-2dca9da5b70a',\n",
       " '2ca95621-9374-4f57-ab74-654caa12f737',\n",
       " '3631d920-9562-4172-be4a-3ac9001ad6d7',\n",
       " 'ba768a6f-e42e-4bc6-aff0-720f1f615373',\n",
       " 'ab4969b5-eae6-44a4-8a7f-304812f94f75',\n",
       " 'a54475ae-4bdf-4603-947d-4fcd17915176',\n",
       " '9b6abef0-f714-44e2-bd45-7d3681b8349d',\n",
       " '2c6c875d-16f2-48c7-a460-2fced8376087',\n",
       " '143cd26d-15d7-49c8-a955-747b57a71b9a',\n",
       " '44b72a48-582f-4da9-b49d-3cd678916950',\n",
       " '87cbc6d3-6947-40d7-9c77-338dd1f50343',\n",
       " 'a11f2e26-0f8b-4f7d-87b8-d852cf1d1d72',\n",
       " '5810dfd5-c222-483f-9345-7850c2ac517b',\n",
       " '8b025b34-9b0e-44a8-95a7-9ef223db92f3',\n",
       " 'a9f30ef1-f3d5-414a-95e5-5557bddeae51',\n",
       " '17acaca8-170b-4463-b46b-ce4edc24f699',\n",
       " 'a9bbae78-f7a8-41d1-b2be-a3708fbf749d',\n",
       " '91051ea0-2f63-4a90-8d68-5eafdab5194f',\n",
       " '0dade026-bf4a-45f0-aa97-5aaad8b4bb6e',\n",
       " 'c102370f-0339-45b1-9304-33f1d7af0c3a',\n",
       " 'b56c701f-2dff-4836-921e-958628ce0020',\n",
       " '19193956-e507-433f-b1cd-bfe71b0434b3',\n",
       " '8dc06a2e-f909-49dc-9f96-24dd75ad0f77',\n",
       " '4a75b734-68a6-4da4-b2aa-b4f2a787f55a',\n",
       " '74599065-622d-4c62-b409-b686be35e521',\n",
       " '0e66f95e-2418-4f96-b44f-e606d39a0520',\n",
       " 'a617d504-6bea-415a-ba9e-a2508599d5bd',\n",
       " '65bb0dd8-0fe1-4fc7-88f7-846d08b471b6',\n",
       " '16b83fd0-4d87-4b40-bf2e-06e3dead8877',\n",
       " 'd145ee15-f14e-42ad-bf66-82ad0dd6ae84',\n",
       " 'b050b9f6-c3db-407a-bd86-a1229b3623ad',\n",
       " '41293248-e839-4d9d-a37e-35d6af7cdc89',\n",
       " '7660efbf-9899-4777-b8b0-2eb0837347c5',\n",
       " '8a75c5fd-9494-44da-81d0-3afa1e046eda',\n",
       " '80bc306c-3368-4cbb-b603-d83a17ee2552',\n",
       " '6922f7a6-c75b-4447-b005-726ab3754bb4',\n",
       " '8afa82bd-c1ef-4abf-a089-62dc2fe556a0',\n",
       " '68c74d43-be54-473b-bb7b-f865bbca4ff9',\n",
       " '2f43c57e-5ea1-4da7-a6dc-45da00eef69a',\n",
       " 'ab3eba3d-a985-4347-bd78-3ddf14a7e799',\n",
       " 'bdd12e93-b2cb-4feb-a527-8ae82b232350',\n",
       " '55e5b535-2466-4f82-ac58-9cc0deb6fe77',\n",
       " '36ccb19b-05ba-462e-a10e-437e4cab5719',\n",
       " '747d53d6-4315-4a85-aacf-f1ad13020499',\n",
       " 'e9d1cafe-9571-4360-a095-f9f6941b825e',\n",
       " '87f9edbe-7b46-41ec-8c48-619f8b7dc425',\n",
       " 'bee662c7-ca9e-4f04-afce-33b14610768f',\n",
       " '580b1b65-e19f-4158-ae2a-f182e79ae4f3',\n",
       " '40775e22-781c-44a6-a862-ea169110f72e',\n",
       " '86f6ecad-72ea-43ef-80c4-0fbc978bc78c',\n",
       " '0aad1f3c-78e5-4948-8de9-a6a227598a55',\n",
       " '374cc3a2-fdcf-46c9-b135-ab80d7a708be',\n",
       " '30e675db-15d9-4866-a92e-3245fb12713e',\n",
       " 'cd9f0b8a-1f3d-4e43-9257-4a972aafea3a',\n",
       " '337b2721-e68a-4b04-bed4-6469240a6344',\n",
       " 'ea5632cf-6daa-4b13-82f5-0b90283f7fa7',\n",
       " '94170a54-58a3-4abb-978e-78797fe55efb',\n",
       " 'e609aa92-da4e-4890-863b-d84f76960da8',\n",
       " '4cec2ed8-246b-4cd2-8a5f-61e18bff4dc4',\n",
       " 'feefee11-d0d3-412f-bc1c-6cd692ccb14f',\n",
       " '125b366a-8323-4658-b2ca-f3e8e75b471b',\n",
       " '2eccaebd-fab4-4352-9973-f937f06f6dc8',\n",
       " '95a5bb19-fbb8-48e6-ac8a-e0b591e35f83',\n",
       " '5e36982a-7873-4bf2-981b-cfa6b9e6a447',\n",
       " 'e47115f8-57f4-44b9-8c2d-0032b8927001',\n",
       " '05da4b4d-ca53-4cc6-8e50-a14724f418ce',\n",
       " 'da75c9e0-4feb-47c8-b8c3-045d8e28b6b9',\n",
       " 'dcefa2bd-f242-47f6-811e-6031fad14828',\n",
       " 'c08e9cb9-ae5f-474e-8f5d-3b164d053d7b',\n",
       " '3d184fe3-d5f2-41d8-905d-747258081a23',\n",
       " '53576f57-e13b-46c8-b372-51c0554aa86d',\n",
       " '496e1143-ccb0-494f-854a-b847ca8c67db',\n",
       " '07aeff8e-5681-42dc-8c8b-594c75d53168',\n",
       " '28cdd783-e0bf-403a-b9cb-b8944f7eda51',\n",
       " '339529b6-30d8-4508-b204-8b0b5fee96ac',\n",
       " '8f2843eb-a7f2-4b6f-9ec4-2782c2f03afb',\n",
       " 'f0321f25-0fb0-4226-a855-218783280c6b',\n",
       " '0f17b411-8577-4560-a730-c493a20f4129',\n",
       " '7cb0ba84-903e-4e94-b135-569ec36628ab',\n",
       " 'c917107d-305e-4fab-934c-1d31bac980eb',\n",
       " 'ab128109-5987-47e5-bd65-d1ab435bf7ce',\n",
       " 'd5e945c4-5fb7-408d-ac2d-f15a48bb0c84',\n",
       " '7ff74338-5e4a-4281-ac05-7ab2b8f295b8',\n",
       " '6eee6484-458f-4f1c-ab15-a2f51c822ef6',\n",
       " 'fafeba4a-e61c-4f48-8fc1-2479c8b7805e',\n",
       " '6abb77aa-1f0f-4392-bc42-8d004f3295b8',\n",
       " '14dff770-0790-4e58-bb7e-320a9d068c29',\n",
       " 'e8724207-276a-4478-9606-bb0944a8139f',\n",
       " '7c36569e-cba1-45a5-8daa-233c0c5ff9e2',\n",
       " 'fcffbdc0-d465-455d-a0b3-28c052fa1b20',\n",
       " '28083b96-d03f-4f90-94cf-abcef800ea23',\n",
       " '6e4d9666-6687-419b-bc63-17a8a407a4ea',\n",
       " '781f35ce-222f-43ee-a24b-80eb7fa59cfc',\n",
       " 'bcaeda22-3301-4140-bb87-ab37e57db8dd',\n",
       " 'c93bab89-b850-4afb-81ff-921cb8fd4c48',\n",
       " 'bee604bc-0df8-4157-b13e-a70808680538',\n",
       " '9035f821-5845-4fb9-af34-761d21aba5d3',\n",
       " '23d4fc56-4a37-4cc7-b51d-ea944beded6f',\n",
       " '7f069987-0ac9-4c0e-91ca-169b4946d371',\n",
       " 'b5b6a1d2-3cf7-4b4b-b020-e5fbbbca9e0f',\n",
       " '0c583370-0255-4981-ba8f-ad61421c2089',\n",
       " '243f2233-de7c-4d2c-8c76-800ca2e93211',\n",
       " '10e2ae4a-edfa-4940-bde3-52af40f782c5',\n",
       " '02a07d56-972f-4500-8945-e4ab3892fb90',\n",
       " '0051b157-16e6-4a2f-a9b1-cefa60aab73a',\n",
       " '9cba20de-4577-4efe-b249-e06521b2d71d',\n",
       " '402ad50e-ff2f-4b1e-9feb-72952ea4e3a3',\n",
       " 'e1fcd193-3e4e-4ba2-bf06-ffa240a2614b',\n",
       " 'ec6d2483-2fe2-4376-b2f9-8a5f612d6ee6',\n",
       " '01764859-0a88-427c-9093-bc9d785cc4c8',\n",
       " '18f58955-75a8-4adb-b0b3-db245e35116b',\n",
       " '77263d02-da99-48d0-9a5d-b628bec61bc3',\n",
       " 'd96574e7-d27b-4b82-a696-69469a2194a6',\n",
       " 'e9aa936f-36e4-4b55-8b20-ed04b261ac53',\n",
       " 'dd423e47-c29b-4823-9de5-df4535414ec2',\n",
       " '02d0a0d8-4942-4928-bc7a-634ee66706e6',\n",
       " '70980611-52f8-44d3-aa48-7ade24882b8c',\n",
       " '4f2b653e-8a90-4613-8de2-e87dc1495285',\n",
       " '4495110d-4556-4102-b6b0-2a4eb22c36ce',\n",
       " '46e5efe0-ed45-424a-a532-9dcfccb2c0f0',\n",
       " 'b20cfdbe-63b4-42c5-822a-5213586e6e74',\n",
       " 'c50a38f2-ae60-499f-8ec5-ef87f024c5d2',\n",
       " '510ef0b0-c097-4390-b5d1-c7dd974c2f86',\n",
       " '7d8b5396-2c46-4eaf-bc03-6298088dc5b0',\n",
       " '8b4e6aab-e0b0-44cf-8aa9-de7deb53b759',\n",
       " 'bbba2260-73be-479a-8716-4cc6c6c31b3b',\n",
       " 'd81dfb17-43f5-457b-b918-7daa140a77fe',\n",
       " '003f13b2-d088-4cff-9305-5280b836e1f5',\n",
       " '62b264a2-1a4b-4fbc-aa40-c05965ce8bb7',\n",
       " '5c8b644b-6a20-45b8-9f02-f799d24899ee',\n",
       " 'b61f9178-bcf3-4b0e-8b97-9bfd6ebabd07',\n",
       " 'b3760a1e-9340-4a3b-a7c0-0611500a9609',\n",
       " '8e654c4c-8b73-43a0-8fe6-b5403cbd1400',\n",
       " '12c11771-d57e-4ced-8ed0-d99ed1641c42',\n",
       " '70cdace8-da3e-4d19-8f06-b92340c14ab8',\n",
       " '1375e73c-c299-44ea-842f-2102076657e2',\n",
       " '1f6171ef-72fd-4348-9314-9667ec8fda33',\n",
       " '3a4ee59e-9001-4ae2-a620-337e085d63a8',\n",
       " '985b6c1e-b032-49f1-979e-2eab56f098c6',\n",
       " '0c0c0247-0cc3-4063-afed-1560b780e213',\n",
       " '3b261bb7-54bc-464d-8055-260780ae1f5f',\n",
       " '651ed2e0-00d5-4dfb-8f93-bba623bb0251',\n",
       " '1aca2bcf-fcc8-4146-9168-77481f7d14e3',\n",
       " 'c2d6044a-a9b1-4f81-b2b5-7ec3d7466611',\n",
       " '3d2b75af-148a-4c04-ba99-0ed2dcd9713c',\n",
       " '0534fee7-9217-4743-945d-fbd38cff3756',\n",
       " 'a0bee3c1-e2d4-4630-8070-f16675029206',\n",
       " '92137512-1d9a-48e1-89f7-9311f12aae4b',\n",
       " 'b62e9798-53fd-4507-8b58-a65586b05e11',\n",
       " 'c8cd1725-c518-4a2d-9686-0e19a821b45c',\n",
       " 'b0f0479f-7589-4748-9763-afbe312a0c51',\n",
       " 'bb99fc34-8ef2-42ff-b3ce-9337746825db',\n",
       " 'bc4406f8-16bd-407b-8c10-f409cda9fcc7',\n",
       " '4a37ec41-8cbe-4615-8e55-eac5ab899a22',\n",
       " 'e596ebbb-3dff-4887-a3f1-631994d170d7',\n",
       " '9440fac4-5813-4f6b-810b-bd777e95baa2',\n",
       " '0bfc5ea1-edc8-45f2-804b-7d90a18437ba',\n",
       " 'a10b77fd-d11a-48ff-b683-8b3fa6a216b7',\n",
       " '3c47635e-159f-4bdb-851d-ca90e6d6f415',\n",
       " '9383e2c8-cb4c-40c6-9529-2c2e97cdd33e',\n",
       " 'feee240b-7981-4329-89c7-35a73a394aee',\n",
       " 'acc207a0-4a15-4986-b5c5-bdd0bcaf8490',\n",
       " 'f4ca5b57-42ff-4cf0-bfb4-a93aa26d067d',\n",
       " '812fe859-c231-47fd-9907-b1a72343ca3d',\n",
       " '247e3e06-f26a-49b0-a46c-563f3a03c967',\n",
       " '99b09c7e-5722-43cc-9aca-ceedcb2f964f',\n",
       " 'eff28938-cc16-4945-9d01-12c6ed413af7',\n",
       " '8f6d7132-59c3-4873-bcbb-5bab697fed15',\n",
       " '32a8b0c8-8b21-43a7-ba8a-9fe16764e023',\n",
       " '8b5d96d9-fb89-44ec-8e0f-5dd3b00bf742',\n",
       " '49b68360-5185-402d-acf3-30f65f6afa53',\n",
       " '6f4b59a6-67d0-48d0-9627-eb36270bcefc',\n",
       " '1d0aec5c-d3a0-4ffe-971b-42fde9e2dbcf',\n",
       " '65d9c3e7-c456-410d-a6f3-cc01b5df4478',\n",
       " '6c65a457-a5b6-4af9-91f4-a8b246eb6909']"
      ]
     },
     "execution_count": 39,
     "metadata": {},
     "output_type": "execute_result"
    }
   ],
   "source": [
    "plain_faiss.add_documents(documents= pages)"
   ]
  },
  {
   "cell_type": "code",
   "execution_count": 40,
   "metadata": {},
   "outputs": [],
   "source": [
    "faiss_path3= 'data/faiss-db3'\n",
    "plain_faiss.save_local(faiss_path3)"
   ]
  },
  {
   "cell_type": "code",
   "execution_count": 42,
   "metadata": {},
   "outputs": [],
   "source": [
    "size = sys.getsizeof(plain_faiss)"
   ]
  },
  {
   "cell_type": "code",
   "execution_count": 43,
   "metadata": {},
   "outputs": [
    {
     "data": {
      "text/plain": [
       "56"
      ]
     },
     "execution_count": 43,
     "metadata": {},
     "output_type": "execute_result"
    }
   ],
   "source": [
    "size"
   ]
  },
  {
   "cell_type": "code",
   "execution_count": 49,
   "metadata": {},
   "outputs": [
    {
     "data": {
      "text/plain": [
       "56"
      ]
     },
     "execution_count": 49,
     "metadata": {},
     "output_type": "execute_result"
    }
   ],
   "source": [
    "size = sys.getsizeof(loader)\n",
    "size"
   ]
  },
  {
   "cell_type": "code",
   "execution_count": 45,
   "metadata": {},
   "outputs": [
    {
     "data": {
      "text/plain": [
       "56"
      ]
     },
     "execution_count": 45,
     "metadata": {},
     "output_type": "execute_result"
    }
   ],
   "source": [
    "size = sys.getsizeof(plain_faiss2)\n",
    "size"
   ]
  },
  {
   "cell_type": "markdown",
   "metadata": {},
   "source": [
    "## other way"
   ]
  },
  {
   "cell_type": "code",
   "execution_count": 51,
   "metadata": {},
   "outputs": [
    {
     "data": {
      "text/plain": [
       "'sentence-transformers/all-mpnet-base-v2'"
      ]
     },
     "execution_count": 51,
     "metadata": {},
     "output_type": "execute_result"
    }
   ],
   "source": [
    "hf.model_name"
   ]
  },
  {
   "cell_type": "code",
   "execution_count": 54,
   "metadata": {},
   "outputs": [],
   "source": [
    "fs = LocalFileStore(\"./cache/\")"
   ]
  },
  {
   "cell_type": "code",
   "execution_count": 56,
   "metadata": {},
   "outputs": [
    {
     "data": {
      "text/plain": [
       "'sentence-transformers/all-mpnet-base-v2'"
      ]
     },
     "execution_count": 56,
     "metadata": {},
     "output_type": "execute_result"
    }
   ],
   "source": [
    "hf.model_name"
   ]
  },
  {
   "cell_type": "code",
   "execution_count": 58,
   "metadata": {},
   "outputs": [],
   "source": [
    "cached_embedder = CacheBackedEmbeddings.from_bytes_store(\n",
    "    hf, fs, namespace=hf.model_name\n",
    ")"
   ]
  },
  {
   "cell_type": "code",
   "execution_count": 59,
   "metadata": {},
   "outputs": [
    {
     "data": {
      "text/plain": [
       "[]"
      ]
     },
     "execution_count": 59,
     "metadata": {},
     "output_type": "execute_result"
    }
   ],
   "source": [
    "list(fs.yield_keys())"
   ]
  },
  {
   "cell_type": "code",
   "execution_count": 64,
   "metadata": {},
   "outputs": [],
   "source": [
    "db = FAISS.from_texts(texts, cached_embedder)"
   ]
  },
  {
   "cell_type": "code",
   "execution_count": 66,
   "metadata": {},
   "outputs": [],
   "source": [
    "db2 = FAISS.from_texts(texts, cached_embedder)"
   ]
  },
  {
   "cell_type": "code",
   "execution_count": 65,
   "metadata": {},
   "outputs": [
    {
     "data": {
      "text/plain": [
       "['sentence-transformers/all-mpnet-base-v2091da8f9-4640-5fe7-b6a1-d762c5ffefc2',\n",
       " 'sentence-transformers/all-mpnet-base-v232e3d6a7-8b79-5ee0-af34-72aba054ca63',\n",
       " 'sentence-transformers/all-mpnet-base-v2edf4a095-7fd9-5f80-b8cd-245a5de83915',\n",
       " 'sentence-transformers/all-mpnet-base-v25b2c8f10-c639-5a98-b4be-6e9660b1a7ca',\n",
       " 'sentence-transformers/all-mpnet-base-v217f2935e-c21c-5441-bd5d-771a14e8ebaf']"
      ]
     },
     "execution_count": 65,
     "metadata": {},
     "output_type": "execute_result"
    }
   ],
   "source": [
    "list(fs.yield_keys())[:5]"
   ]
  },
  {
   "cell_type": "code",
   "execution_count": null,
   "metadata": {},
   "outputs": [],
   "source": []
  }
 ],
 "metadata": {
  "kernelspec": {
   "display_name": "Python 3",
   "language": "python",
   "name": "python3"
  },
  "language_info": {
   "codemirror_mode": {
    "name": "ipython",
    "version": 3
   },
   "file_extension": ".py",
   "mimetype": "text/x-python",
   "name": "python",
   "nbconvert_exporter": "python",
   "pygments_lexer": "ipython3",
   "version": "3.11.3"
  },
  "orig_nbformat": 4
 },
 "nbformat": 4,
 "nbformat_minor": 2
}
